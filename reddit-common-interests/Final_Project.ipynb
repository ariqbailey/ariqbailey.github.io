{
 "metadata": {
  "language_info": {
   "codemirror_mode": {
    "name": "ipython",
    "version": 3
   },
   "file_extension": ".py",
   "mimetype": "text/x-python",
   "name": "python",
   "nbconvert_exporter": "python",
   "pygments_lexer": "ipython3",
   "version": "3.8.3"
  },
  "orig_nbformat": 2,
  "kernelspec": {
   "name": "python383jvsc74a57bd0ff8cead65cca14c4e45b2cdc16dbdca92182fe4229432219585f21daf4b64b51",
   "display_name": "Python 3.8.3 64-bit (conda)"
  }
 },
 "nbformat": 4,
 "nbformat_minor": 2,
 "cells": [
  {
   "cell_type": "code",
   "execution_count": 5,
   "metadata": {},
   "outputs": [],
   "source": [
    "import pandas as pd\n",
    "import numpy as np\n",
    "import praw"
   ]
  },
  {
   "cell_type": "code",
   "execution_count": 7,
   "metadata": {},
   "outputs": [],
   "source": [
    "# hide my api access stuff\n",
    "auth = open(\"secret\", \"r\").read().split('|')\n",
    "CLIENT_ID = auth[0]\n",
    "SECRET_KEY = auth[1]"
   ]
  },
  {
   "cell_type": "code",
   "execution_count": 38,
   "metadata": {},
   "outputs": [],
   "source": [
    "# make a PRAW reddit instance\n",
    "reddit = praw.Reddit (\n",
    "    client_id=CLIENT_ID,\n",
    "    client_secret=SECRET_KEY,\n",
    "    user_agent=\"uhhh idk\",\n",
    ")\n",
    "\n",
    "USER_ONE = 'jmct' #professor\n",
    "USER_TWO = 'ariqbailey'"
   ]
  },
  {
   "cell_type": "code",
   "execution_count": 39,
   "metadata": {
    "tags": []
   },
   "outputs": [
    {
     "output_type": "stream",
     "name": "stdout",
     "text": [
      "--------------------\nUMD\nDepends what you mean by Professor.\n\nTechnically, no. But most faculty research positions will require a PhD or a _very significant_ publication record (which is harder without a PhD)\n\nIf by ‘Professor’ you mean ‘person who teaches at the university level’ then no, there are non-research positions that are more lax about needing a PhD.\n\nSome students call all their lecturers ‘Professor’ even though that’s _technically_ a research title at UMD. Some schools have “teaching Professors”, but most just call them lecturers.\n1616204439.0\n--------------------\nUMD\nI find it very demoralizing and, worse, difficult to gauge how the material is landing.\n\nI don’t think we have it nearly as difficult as the students though. It’s just a mess all around.\n1614618300.0\n--------------------\nmusictheory\nI actually thought the point was more interesting than that.\n\nWithout perfect pitch you _have_ to learn ear training skills that you can use _even after you get old_. Whereas if you rely on perfect pitch, that will go away and you have to _learn_ those skills anew.\n\nThat was my takeaway at least. In both cases you get old, but in one you don't suddenly lose a skill.\n1612900552.0\n--------------------\nlaw\nIt all seems relatively benign, which just raises the question: Why now?\n1611119051.0\n--------------------\nlinux\nI’ve always found mutt to be clunky with multiple accounts, but it’s my favorite client otherwise. Any insight into how you’ve set it up to be nice with more than one email (I tend to use 3 accounts)\n1610815558.0\n--------------------\nhaskell\nYour naming of your arguments is a bit odd, doesn’t seem to match your types. This is unlikely to be the issue, but you should address that so that we can see what you meant.\n1610209498.0\n--------------------\njazzguitar\nThat's what this post is about :D\n\nI've transcribed a good portion and it seems like it's mostly dominant lines, even over the ii, etc.\n\nI'm just wondering if anyone has insight into how/why this works.\n1607112755.0\n--------------------\njazzguitar\nI don't think it's 'out' at all, it's definitely very straight-ahead.\n\nI just don't hear him making most of the changes. It feels like he's improvising over a 'simplified' set of changes. That's what I was trying to get at in my post, but I am not sure I communicated it well.\n1607107495.0\n--------------------\nJohn_Frusciante\nSounds great! What setting you using on the Captor + jubilee? I don’t have a line driver but maybe I can get close!\n1600382010.0\n--------------------\nscience\nIt’s saving for the tax payer, but profit for the prison. The comment’s “they” refers to the latter.\n1591832203.0\n--------------------\nmusictheory\nIt’s not about positions, it’s about the tonal center of the music.\n\nSo if you’re playing G-Dorian, then that means that your tonal center is G, not F. So all your chord progressions resolve to G, even though your melody may have the same notes as F-Major.\n1580133350.0\n--------------------\nhaskell\nYay! I’m glad you’ve found the talk useful. Of course Colin gets all credit for the ideas though :)\n1574994300.0\n--------------------\nVirginia\nLet me get this straight, you’re saying killing people shouldn’t be illegal because it wouldn’t/doesn’t stop people from killing people?\n\nDo you think prevention of a thing is the only reason to make it illegal?\n\nOr is your point that just making something illegal won’t stop it (such as making killing illegal hasn’t stopped people killing each other), so why bother? You should ask yourself, why _do_ we bother making killing illegal if it doesn’t stop killings?\n\nPerhaps, it not _only_ about stopping it.\n1574083492.0\n--------------------\nhaskell\nYour last point is a big part of it, IMO.\n\nI know that _personally_ it's been difficult to get motivated when it seems like there's relatively little consensus on certain issues.\n1572618919.0\n--------------------\nhaskell\nThis is a good post and several of the comments touch on important aspects of the process/issues as well.\n\nSpeaking as someone on the committee, I tend to agree that it's mostly stalled. Last time the committee met in person we _did_ choose someone to lead discussion and keep stuff on track, but things came up in that person's personal life that made it impossible for them to spend the time necessary.\n\nAdditionally, as others have pointed out, the technical issues are often less trivial than the wider community assumes.\n\nTaking off my committee member hat and speaking as an individual: I sometimes think that we should treat the 2020 report as a possibly large shift in Haskell, and be okay with a lot of things breaking (so long as they can be demonstrated before being put in the report!). What have we, the lazy pure functional programming community, learned since Haskell 98 and Haskell 2010. If we were to develop a language standard starting from that instead of starting from GHC, I wonder if we'd feel less wary of doing anything 'too drastic'. Note that this is just idle specification and it's not clear that it would actually be any more productive.\n\nLast point: The Haskell 98 report wasn't actually published until 1999, so there's still time ;)\n1572618700.0\n--------------------\nGuitar\nAwesome advice. Any particular truefire courses you recommend?\n1568505356.0\n--------------------\nhaskell\nGiving up function composition for better error messages? To me it’s not even a trade off, it’s all upside! I always get confused about the ‘direction’ of `(.)` with lenses.\n1567480205.0\n--------------------\napexlegends\nPretty sure that’s gold?\n1564454183.0\n--------------------\napexlegends\nWhen I lose the fighting doesn’t last as long. It’s not common to get 3 minutes of fighting like this, so I thought this clip was better since there was more of me in battle.\n1558815017.0\n--------------------\napexlegends\nFor context:\n\nI try to take the support-role aspects seriously, and I think I do well with that aspect. However, sometimes the best support is killing opponents, they can’t harm your team if they’re down!\n\nSo if anyone has advice on knowing when to push harder as a lifeline or when to worry less about healing and more about fighting, I would love to hear it.\n1558805188.0\n"
     ]
    }
   ],
   "source": [
    "# get users comments\n",
    "LIMIT = 20\n",
    "user_one_comments = reddit.redditor(USER_ONE).comments.new(limit=LIMIT)\n",
    "one_comment_df = pd.DataFrame(columns=['body', 'body_length', 'subreddit', 'created_utc'])\n",
    "\n",
    "i = 0\n",
    "for comment in user_one_comments:\n",
    "    # print('-'*20)\n",
    "    # print(comment.subreddit)\n",
    "    # print(comment.body)\n",
    "    # print(comment.created_utc)\n",
    "    one_comment_df.loc[i] = [comment.body, len(comment.body), comment.subreddit, comment.created_utc]\n",
    "    i += 1"
   ]
  },
  {
   "cell_type": "code",
   "execution_count": 40,
   "metadata": {},
   "outputs": [
    {
     "output_type": "execute_result",
     "data": {
      "text/plain": [
       "                                                body body_length    subreddit  \\\n",
       "0  Depends what you mean by Professor.\\n\\nTechnic...         523          UMD   \n",
       "1  I find it very demoralizing and, worse, diffic...         186          UMD   \n",
       "2  I actually thought the point was more interest...         368  musictheory   \n",
       "3  It all seems relatively benign, which just rai...          72          law   \n",
       "4  I’ve always found mutt to be clunky with multi...         199        linux   \n",
       "\n",
       "    created_utc  \n",
       "0  1.616204e+09  \n",
       "1  1.614618e+09  \n",
       "2  1.612901e+09  \n",
       "3  1.611119e+09  \n",
       "4  1.610816e+09  "
      ],
      "text/html": "<div>\n<style scoped>\n    .dataframe tbody tr th:only-of-type {\n        vertical-align: middle;\n    }\n\n    .dataframe tbody tr th {\n        vertical-align: top;\n    }\n\n    .dataframe thead th {\n        text-align: right;\n    }\n</style>\n<table border=\"1\" class=\"dataframe\">\n  <thead>\n    <tr style=\"text-align: right;\">\n      <th></th>\n      <th>body</th>\n      <th>body_length</th>\n      <th>subreddit</th>\n      <th>created_utc</th>\n    </tr>\n  </thead>\n  <tbody>\n    <tr>\n      <th>0</th>\n      <td>Depends what you mean by Professor.\\n\\nTechnic...</td>\n      <td>523</td>\n      <td>UMD</td>\n      <td>1.616204e+09</td>\n    </tr>\n    <tr>\n      <th>1</th>\n      <td>I find it very demoralizing and, worse, diffic...</td>\n      <td>186</td>\n      <td>UMD</td>\n      <td>1.614618e+09</td>\n    </tr>\n    <tr>\n      <th>2</th>\n      <td>I actually thought the point was more interest...</td>\n      <td>368</td>\n      <td>musictheory</td>\n      <td>1.612901e+09</td>\n    </tr>\n    <tr>\n      <th>3</th>\n      <td>It all seems relatively benign, which just rai...</td>\n      <td>72</td>\n      <td>law</td>\n      <td>1.611119e+09</td>\n    </tr>\n    <tr>\n      <th>4</th>\n      <td>I’ve always found mutt to be clunky with multi...</td>\n      <td>199</td>\n      <td>linux</td>\n      <td>1.610816e+09</td>\n    </tr>\n  </tbody>\n</table>\n</div>"
     },
     "metadata": {},
     "execution_count": 40
    }
   ],
   "source": [
    "one_comment_df.head()"
   ]
  },
  {
   "cell_type": "code",
   "execution_count": 48,
   "metadata": {},
   "outputs": [],
   "source": [
    "# get users posts\n",
    "user_one_posts = reddit.redditor(USER_ONE).submissions.new(limit=LIMIT)\n",
    "one_post_df = pd.DataFrame(columns=['title', 'body', 'body_length', 'subreddit', 'created_utc'])\n",
    "\n",
    "i = 0\n",
    "for post in user_one_posts:\n",
    "    one_post_df.at[i] = [post.title, post.selftext, len(post.selftext), post.subreddit, post.created_utc]\n",
    "    i += 1"
   ]
  },
  {
   "cell_type": "code",
   "execution_count": 49,
   "metadata": {},
   "outputs": [
    {
     "output_type": "execute_result",
     "data": {
      "text/plain": [
       "                                               title  \\\n",
       "0  Trump issues new Executive Order relating to t...   \n",
       "1  Any insight into Joe Pass's approach to \"Let i...   \n",
       "2  What About the Natural Numbers? PWLConf 2019 [...   \n",
       "3  Hoping for constructive criticism and advice o...   \n",
       "4  ICFP 2018 Accepted (or conditionally accepted)...   \n",
       "\n",
       "                                                body body_length    subreddit  \\\n",
       "0                                                              0          law   \n",
       "1  Hey all,\\n\\nI've been transcribing Joe Pass's ...        1131   jazzguitar   \n",
       "2                                                              0  programming   \n",
       "3                                                              0  apexlegends   \n",
       "4                                                              0      haskell   \n",
       "\n",
       "   created_utc  \n",
       "0  1.61112e+09  \n",
       "1  1.60707e+09  \n",
       "2  1.56933e+09  \n",
       "3   1.5588e+09  \n",
       "4  1.52657e+09  "
      ],
      "text/html": "<div>\n<style scoped>\n    .dataframe tbody tr th:only-of-type {\n        vertical-align: middle;\n    }\n\n    .dataframe tbody tr th {\n        vertical-align: top;\n    }\n\n    .dataframe thead th {\n        text-align: right;\n    }\n</style>\n<table border=\"1\" class=\"dataframe\">\n  <thead>\n    <tr style=\"text-align: right;\">\n      <th></th>\n      <th>title</th>\n      <th>body</th>\n      <th>body_length</th>\n      <th>subreddit</th>\n      <th>created_utc</th>\n    </tr>\n  </thead>\n  <tbody>\n    <tr>\n      <th>0</th>\n      <td>Trump issues new Executive Order relating to t...</td>\n      <td></td>\n      <td>0</td>\n      <td>law</td>\n      <td>1.61112e+09</td>\n    </tr>\n    <tr>\n      <th>1</th>\n      <td>Any insight into Joe Pass's approach to \"Let i...</td>\n      <td>Hey all,\\n\\nI've been transcribing Joe Pass's ...</td>\n      <td>1131</td>\n      <td>jazzguitar</td>\n      <td>1.60707e+09</td>\n    </tr>\n    <tr>\n      <th>2</th>\n      <td>What About the Natural Numbers? PWLConf 2019 [...</td>\n      <td></td>\n      <td>0</td>\n      <td>programming</td>\n      <td>1.56933e+09</td>\n    </tr>\n    <tr>\n      <th>3</th>\n      <td>Hoping for constructive criticism and advice o...</td>\n      <td></td>\n      <td>0</td>\n      <td>apexlegends</td>\n      <td>1.5588e+09</td>\n    </tr>\n    <tr>\n      <th>4</th>\n      <td>ICFP 2018 Accepted (or conditionally accepted)...</td>\n      <td></td>\n      <td>0</td>\n      <td>haskell</td>\n      <td>1.52657e+09</td>\n    </tr>\n  </tbody>\n</table>\n</div>"
     },
     "metadata": {},
     "execution_count": 49
    }
   ],
   "source": [
    "one_post_df.head()"
   ]
  },
  {
   "cell_type": "code",
   "execution_count": null,
   "metadata": {},
   "outputs": [],
   "source": []
  }
 ]
}